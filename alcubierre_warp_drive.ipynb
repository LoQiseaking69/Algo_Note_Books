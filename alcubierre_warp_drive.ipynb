{
  "cells": [
    {
      "cell_type": "markdown",
      "metadata": {
        "id": "view-in-github",
        "colab_type": "text"
      },
      "source": [
        "<a href=\"https://colab.research.google.com/github/LoQiseaking69/Algo_Note_Books/blob/main/alcubierre_warp_drive.ipynb\" target=\"_parent\"><img src=\"https://colab.research.google.com/assets/colab-badge.svg\" alt=\"Open In Colab\"/></a>"
      ]
    },
    {
      "cell_type": "markdown",
      "id": "91ba87b9",
      "metadata": {
        "id": "91ba87b9"
      },
      "source": [
        "\n",
        "# Comprehensive Study on Alcubierre Warp Drive\n",
        "\n",
        "This notebook offers a detailed study of the Alcubierre Warp Drive, a theoretical concept in physics proposing faster-than-light travel within the framework of general relativity. We will explore the scientific foundations, mathematical formulations, and the potential implications of this fascinating concept, aiming to provide an in-depth understanding suitable for academic and research purposes.\n"
      ]
    },
    {
      "cell_type": "markdown",
      "id": "2c9ed4a3-16a2-48e5-afc1-1a9cd9bee7aa",
      "metadata": {
        "id": "2c9ed4a3-16a2-48e5-afc1-1a9cd9bee7aa"
      },
      "source": [
        "# Dependencies & Imports"
      ]
    },
    {
      "cell_type": "code",
      "execution_count": 1,
      "id": "c007ee6e-0970-4468-8c57-86c71a650b7f",
      "metadata": {
        "id": "c007ee6e-0970-4468-8c57-86c71a650b7f"
      },
      "outputs": [],
      "source": [
        "import numpy as np\n",
        "import plotly.graph_objects as go\n",
        "from ipywidgets import interact, FloatSlider"
      ]
    },
    {
      "cell_type": "markdown",
      "id": "8b4d45ef",
      "metadata": {
        "id": "8b4d45ef"
      },
      "source": [
        "## Theoretical Background\n",
        "\n",
        "The Alcubierre Warp Drive is based on Einstein's theory of general relativity. It posits the creation of a warp bubble that distorts spacetime, contracting it in front of the vessel and expanding it behind. This notebook will dissect these concepts, offering a clear insight into the physics underlying the warp drive."
      ]
    },
    {
      "cell_type": "markdown",
      "id": "8dbcd537",
      "metadata": {
        "id": "8dbcd537"
      },
      "source": [
        "\n",
        "## Mathematical Formulation of the Warp Drive\n",
        "\n",
        "We delve into the mathematical aspects of the Alcubierre Warp Drive, focusing on the spacetime metric and its implications. This section aims to provide a comprehensive understanding of the theoretical framework that underpins the concept of warp drive.\n"
      ]
    },
    {
      "cell_type": "code",
      "execution_count": 2,
      "id": "8fad655f",
      "metadata": {
        "id": "8fad655f"
      },
      "outputs": [],
      "source": [
        "def alcubierre_metric(warp_factor, x, y, z, ship_radius, sigma):\n",
        "    \"\"\"\n",
        "    Calculate the Alcubierre warp drive metric tensor components.\n",
        "\n",
        "    Parameters:\n",
        "    warp_factor (float): The intensity of the warp effect.\n",
        "    x, y, z (ndarray): Coordinates in the space grid.\n",
        "    ship_radius (float): The radius of the warp bubble.\n",
        "    sigma (float): Controls the thickness of the warp bubble's edge.\n",
        "\n",
        "    Returns:\n",
        "    ndarray: Calculated warp drive metric tensor components.\n",
        "    \"\"\"\n",
        "    if warp_factor <= 0 or ship_radius <= 0 or sigma <= 0:\n",
        "        raise ValueError(\"Warp factor, ship radius, and sigma must be positive.\")\n",
        "\n",
        "    r = np.sqrt(x**2 + y**2 + z**2)\n",
        "    R = ship_radius\n",
        "    return warp_factor * (np.tanh(sigma * (r + R)) - np.tanh(sigma * (r - R))) / (2 * np.tanh(sigma * R))"
      ]
    },
    {
      "cell_type": "markdown",
      "id": "561b9f9a-6c27-4fa4-886a-044ba44e7898",
      "metadata": {
        "id": "561b9f9a-6c27-4fa4-886a-044ba44e7898"
      },
      "source": [
        "## Non-Uniform Grid Generation\n",
        "\n",
        "This function, `create_non_uniform_grid`, is designed to generate a non-uniform grid. The grid is denser near a specified center point and becomes sparser away from the center. This approach is particularly useful for visualizations where detail is required more in specific areas (like around the warp bubble in our case) while still covering a larger area with less detail.\n",
        "\n",
        "The function takes the following parameters:\n",
        "- `center`: The center point around which the grid density is highest.\n",
        "- `radius`: The radius around the center where the grid density is high.\n",
        "- `grid_size`: The total size of the grid.\n",
        "- `density_factor`: Determines how much denser the grid is near the center compared to the outer areas.\n",
        "\n",
        "The function returns a non-uniform grid that can be used for detailed visualization in specific areas while maintaining overall computational efficiency."
      ]
    },
    {
      "cell_type": "code",
      "execution_count": 3,
      "id": "0bbcb879-f5f2-44e2-97b7-0c8463f93814",
      "metadata": {
        "id": "0bbcb879-f5f2-44e2-97b7-0c8463f93814"
      },
      "outputs": [],
      "source": [
        "def create_non_uniform_grid(center, radius, grid_size, density_factor):\n",
        "    \"\"\"\n",
        "    Create a non-uniform grid around a center point.\n",
        "\n",
        "    Parameters:\n",
        "    center: The center point of interest.\n",
        "    radius: The radius around the center to have higher density.\n",
        "    grid_size: The total grid size.\n",
        "    density_factor: Factor to increase density near the center.\n",
        "\n",
        "    Returns:\n",
        "    ndarray: Non-uniform grid.\n",
        "    \"\"\"\n",
        "    linear_space = np.linspace(-10, 10, grid_size)\n",
        "    high_density_space = np.linspace(-radius, radius, grid_size // density_factor)\n",
        "    combined_space = np.unique(np.concatenate([linear_space, high_density_space]))\n",
        "    combined_space.sort()\n",
        "    return combined_space[combined_space >= -10][combined_space <= 10]"
      ]
    },
    {
      "cell_type": "markdown",
      "id": "d09acadf-cae0-4b75-bdae-36b094ad94f7",
      "metadata": {
        "id": "d09acadf-cae0-4b75-bdae-36b094ad94f7"
      },
      "source": [
        "## Static Visualization of the Alcubierre Warp Bubble\n",
        "\n",
        "This cell creates a static 3D visualization of the Alcubierre warp bubble using Plotly. The visualization is based on the metric tensor components calculated by the `alcubierre_metric` function. The warp factor, ship radius, and sigma values are predefined for this static demonstration.\n",
        "\n",
        "Key steps in this cell include:\n",
        "- Setting the parameters for the warp bubble.\n",
        "- Generating a non-uniform grid with higher resolution around the warp bubble using the `create_non_uniform_grid` function.\n",
        "- Calculating the warp bubble metric using the `alcubierre_metric` function.\n",
        "- Creating a 3D visualization using Plotly's `Volume` trace to represent the warp bubble in space.\n",
        "\n",
        "The result is an interactive 3D plot that shows the warp bubble, allowing for examination from different angles and perspectives."
      ]
    },
    {
      "cell_type": "code",
      "execution_count": 4,
      "id": "5c78365f-7956-43cf-8b23-f65fdb0dbd91",
      "metadata": {
        "id": "5c78365f-7956-43cf-8b23-f65fdb0dbd91"
      },
      "outputs": [],
      "source": [
        "# Warp factor and other parameters for static visualization\n",
        "warp_factor = 5\n",
        "ship_radius = 2\n",
        "sigma = 1\n",
        "\n",
        "# Create non-uniform grid\n",
        "x = create_non_uniform_grid(0, ship_radius, 100, 2)\n",
        "y = create_non_uniform_grid(0, ship_radius, 100, 2)\n",
        "z = create_non_uniform_grid(0, ship_radius, 100, 2)\n",
        "x, y, z = np.meshgrid(x, y, z)\n",
        "\n",
        "# Generate the warp bubble metric\n",
        "metric = alcubierre_metric(warp_factor, x, y, z, ship_radius, sigma)\n",
        "\n",
        "# Create the 3D Plotly figure\n",
        "fig = go.Figure(data=go.Volume(\n",
        "    x=x.flatten(),\n",
        "    y=y.flatten(),\n",
        "    z=z.flatten(),\n",
        "    value=metric.flatten(),\n",
        "    isomin=0.1,\n",
        "    isomax=0.9,\n",
        "    opacity=0.1,\n",
        "    surface_count=17,\n",
        "    colorscale='RdBu',\n",
        "    caps=dict(x_show=False, y_show=False)\n",
        "))\n",
        "fig.update_layout(\n",
        "    title='Alcubierre Warp Bubble',\n",
        "    scene=dict(\n",
        "        xaxis_title='X-axis',\n",
        "        yaxis_title='Y-axis',\n",
        "        zaxis_title='Z-axis'\n",
        "    )\n",
        ")\n",
        "fig.show()"
      ]
    },
    {
      "cell_type": "markdown",
      "id": "9b796c12",
      "metadata": {
        "id": "9b796c12"
      },
      "source": [
        "\n",
        "## Interactive Experimentation\n",
        "\n",
        "This section provides tools for interactive manipulation of the key variables in the Alcubierre drive equation. Users can adjust these variables to see their impact on the warp bubble and explore the theoretical feasibility of the drive.\n"
      ]
    },
    {
      "cell_type": "code",
      "execution_count": 5,
      "id": "4c488392",
      "metadata": {
        "id": "4c488392",
        "outputId": "a2ee56a1-6fcb-47ea-c068-ff8fd564b1cb",
        "colab": {
          "base_uri": "https://localhost:8080/",
          "height": 113,
          "referenced_widgets": [
            "799502b3a02b4b6183a6387e5ace60ea",
            "33a2d86fba3940e6960429901e9e1332",
            "74ffb3e9856d4140a7c1ff5f64a641eb",
            "052f48c869754370b4372f7881cae3a7",
            "8790d4afd256492db922a5ed01c70708",
            "bf4b6f4ae88d4b7e9038f724044903aa",
            "3e2236d7b00a4ac1a8a52a6599d23026",
            "dc70ca007fcb492fa377c01149ca2318",
            "e465331701f44b1f9cf7ccc38d7112ce",
            "d0ee5d8a401143ef870c6773c66ec634",
            "0d8cd9070528466eabe3b25f08f2d949",
            "f20956b1135f4bebaba86a96bec8c5d0",
            "fa1bca40a53e49b893f1bcccc3ac6837"
          ]
        }
      },
      "outputs": [
        {
          "output_type": "display_data",
          "data": {
            "text/plain": [
              "interactive(children=(FloatSlider(value=5.0, description='Warp Factor', max=10.0), FloatSlider(value=2.0, desc…"
            ],
            "application/vnd.jupyter.widget-view+json": {
              "version_major": 2,
              "version_minor": 0,
              "model_id": "799502b3a02b4b6183a6387e5ace60ea"
            }
          },
          "metadata": {}
        }
      ],
      "source": [
        "def interactive_alcubierre(warp_factor, ship_radius, sigma):\n",
        "    \"\"\"\n",
        "    Create an interactive 3D visualization of the Alcubierre warp bubble.\n",
        "\n",
        "    Parameters:\n",
        "    warp_factor (float): Intensity of the warp effect.\n",
        "    ship_radius (float): Radius of the ship's warp bubble.\n",
        "    sigma (float): Controls the thickness of the warp bubble's edge.\n",
        "    \"\"\"\n",
        "    try:\n",
        "        # Input validation\n",
        "        if warp_factor < 0 or ship_radius <= 0 or sigma <= 0:\n",
        "            raise ValueError(\"Invalid parameters. Ensure warp_factor >= 0, ship_radius > 0, and sigma > 0.\")\n",
        "\n",
        "        # Create non-uniform grid\n",
        "        x = create_non_uniform_grid(0, ship_radius, 100, 2)\n",
        "        y = create_non_uniform_grid(0, ship_radius, 100, 2)\n",
        "        z = create_non_uniform_grid(0, ship_radius, 100, 2)\n",
        "        x, y, z = np.meshgrid(x, y, z)\n",
        "\n",
        "        # Generate the warp bubble metric\n",
        "        metric = alcubierre_metric(warp_factor, x, y, z, ship_radius, sigma)\n",
        "\n",
        "        # Create the 3D Plotly figure\n",
        "        fig = go.Figure(data=go.Volume(\n",
        "            x=x.flatten(),\n",
        "            y=y.flatten(),\n",
        "            z=z.flatten(),\n",
        "            value=metric.flatten(),\n",
        "            isomin=0.1,\n",
        "            isomax=0.9,\n",
        "            opacity=0.1,\n",
        "            surface_count=17,\n",
        "            colorscale='RdBu',\n",
        "            caps=dict(x_show=False, y_show=False)\n",
        "        ))\n",
        "        fig.update_layout(\n",
        "            title='Interactive Alcubierre Warp Bubble',\n",
        "            scene=dict(\n",
        "                xaxis_title='X-axis',\n",
        "                yaxis_title='Y-axis',\n",
        "                zaxis_title='Z-axis'\n",
        "            )\n",
        "        )\n",
        "        fig.show()\n",
        "\n",
        "        # Print analysis\n",
        "        print(f\"Analysis at warp factor: {warp_factor}, ship radius: {ship_radius}, sigma: {sigma}\")\n",
        "\n",
        "    except Exception as e:\n",
        "        print(f\"An error occurred: {e}\")\n",
        "\n",
        "# Interactive widgets configuration\n",
        "interact(interactive_alcubierre,\n",
        "         warp_factor=FloatSlider(min=0, max=10, step=0.1, value=5, description=\"Warp Factor\"),\n",
        "         ship_radius=FloatSlider(min=0.1, max=10, step=0.1, value=2, description=\"Ship Radius\"),\n",
        "         sigma=FloatSlider(min=0.1, max=10, step=0.1, value=1, description=\"Sigma\"))"
      ]
    },
    {
      "cell_type": "markdown",
      "id": "27a8620d",
      "metadata": {
        "id": "27a8620d"
      },
      "source": [
        "\n",
        "## Conclusion and Further Research\n",
        "\n",
        "This notebook has presented a detailed exploration of the Alcubierre Warp Drive, including its theoretical foundations, mathematical model, and interactive experimentation for hypothesis testing. Further research could expand on these concepts, exploring the practical and theoretical challenges in more depth.\n"
      ]
    }
  ],
  "metadata": {
    "kernelspec": {
      "display_name": "Python 3 (ipykernel)",
      "language": "python",
      "name": "python3"
    },
    "language_info": {
      "codemirror_mode": {
        "name": "ipython",
        "version": 3
      },
      "file_extension": ".py",
      "mimetype": "text/x-python",
      "name": "python",
      "nbconvert_exporter": "python",
      "pygments_lexer": "ipython3",
      "version": "3.11.0"
    },
    "colab": {
      "provenance": [],
      "include_colab_link": true
    },
    "widgets": {
      "application/vnd.jupyter.widget-state+json": {
        "799502b3a02b4b6183a6387e5ace60ea": {
          "model_module": "@jupyter-widgets/controls",
          "model_name": "VBoxModel",
          "model_module_version": "1.5.0",
          "state": {
            "_dom_classes": [
              "widget-interact"
            ],
            "_model_module": "@jupyter-widgets/controls",
            "_model_module_version": "1.5.0",
            "_model_name": "VBoxModel",
            "_view_count": null,
            "_view_module": "@jupyter-widgets/controls",
            "_view_module_version": "1.5.0",
            "_view_name": "VBoxView",
            "box_style": "",
            "children": [
              "IPY_MODEL_33a2d86fba3940e6960429901e9e1332",
              "IPY_MODEL_74ffb3e9856d4140a7c1ff5f64a641eb",
              "IPY_MODEL_052f48c869754370b4372f7881cae3a7",
              "IPY_MODEL_8790d4afd256492db922a5ed01c70708"
            ],
            "layout": "IPY_MODEL_bf4b6f4ae88d4b7e9038f724044903aa"
          }
        },
        "33a2d86fba3940e6960429901e9e1332": {
          "model_module": "@jupyter-widgets/controls",
          "model_name": "FloatSliderModel",
          "model_module_version": "1.5.0",
          "state": {
            "_dom_classes": [],
            "_model_module": "@jupyter-widgets/controls",
            "_model_module_version": "1.5.0",
            "_model_name": "FloatSliderModel",
            "_view_count": null,
            "_view_module": "@jupyter-widgets/controls",
            "_view_module_version": "1.5.0",
            "_view_name": "FloatSliderView",
            "continuous_update": true,
            "description": "Warp Factor",
            "description_tooltip": null,
            "disabled": false,
            "layout": "IPY_MODEL_3e2236d7b00a4ac1a8a52a6599d23026",
            "max": 10,
            "min": 0,
            "orientation": "horizontal",
            "readout": true,
            "readout_format": ".2f",
            "step": 0.1,
            "style": "IPY_MODEL_dc70ca007fcb492fa377c01149ca2318",
            "value": 5
          }
        },
        "74ffb3e9856d4140a7c1ff5f64a641eb": {
          "model_module": "@jupyter-widgets/controls",
          "model_name": "FloatSliderModel",
          "model_module_version": "1.5.0",
          "state": {
            "_dom_classes": [],
            "_model_module": "@jupyter-widgets/controls",
            "_model_module_version": "1.5.0",
            "_model_name": "FloatSliderModel",
            "_view_count": null,
            "_view_module": "@jupyter-widgets/controls",
            "_view_module_version": "1.5.0",
            "_view_name": "FloatSliderView",
            "continuous_update": true,
            "description": "Ship Radius",
            "description_tooltip": null,
            "disabled": false,
            "layout": "IPY_MODEL_e465331701f44b1f9cf7ccc38d7112ce",
            "max": 10,
            "min": 0.1,
            "orientation": "horizontal",
            "readout": true,
            "readout_format": ".2f",
            "step": 0.1,
            "style": "IPY_MODEL_d0ee5d8a401143ef870c6773c66ec634",
            "value": 2
          }
        },
        "052f48c869754370b4372f7881cae3a7": {
          "model_module": "@jupyter-widgets/controls",
          "model_name": "FloatSliderModel",
          "model_module_version": "1.5.0",
          "state": {
            "_dom_classes": [],
            "_model_module": "@jupyter-widgets/controls",
            "_model_module_version": "1.5.0",
            "_model_name": "FloatSliderModel",
            "_view_count": null,
            "_view_module": "@jupyter-widgets/controls",
            "_view_module_version": "1.5.0",
            "_view_name": "FloatSliderView",
            "continuous_update": true,
            "description": "Sigma",
            "description_tooltip": null,
            "disabled": false,
            "layout": "IPY_MODEL_0d8cd9070528466eabe3b25f08f2d949",
            "max": 10,
            "min": 0.1,
            "orientation": "horizontal",
            "readout": true,
            "readout_format": ".2f",
            "step": 0.1,
            "style": "IPY_MODEL_f20956b1135f4bebaba86a96bec8c5d0",
            "value": 1
          }
        },
        "8790d4afd256492db922a5ed01c70708": {
          "model_module": "@jupyter-widgets/output",
          "model_name": "OutputModel",
          "model_module_version": "1.0.0",
          "state": {
            "_dom_classes": [],
            "_model_module": "@jupyter-widgets/output",
            "_model_module_version": "1.0.0",
            "_model_name": "OutputModel",
            "_view_count": null,
            "_view_module": "@jupyter-widgets/output",
            "_view_module_version": "1.0.0",
            "_view_name": "OutputView",
            "layout": "IPY_MODEL_fa1bca40a53e49b893f1bcccc3ac6837",
            "msg_id": "603ca46b-77f0-4992-d16d-7aae079dea61",
            "outputs": []
          }
        },
        "bf4b6f4ae88d4b7e9038f724044903aa": {
          "model_module": "@jupyter-widgets/base",
          "model_name": "LayoutModel",
          "model_module_version": "1.2.0",
          "state": {
            "_model_module": "@jupyter-widgets/base",
            "_model_module_version": "1.2.0",
            "_model_name": "LayoutModel",
            "_view_count": null,
            "_view_module": "@jupyter-widgets/base",
            "_view_module_version": "1.2.0",
            "_view_name": "LayoutView",
            "align_content": null,
            "align_items": null,
            "align_self": null,
            "border": null,
            "bottom": null,
            "display": null,
            "flex": null,
            "flex_flow": null,
            "grid_area": null,
            "grid_auto_columns": null,
            "grid_auto_flow": null,
            "grid_auto_rows": null,
            "grid_column": null,
            "grid_gap": null,
            "grid_row": null,
            "grid_template_areas": null,
            "grid_template_columns": null,
            "grid_template_rows": null,
            "height": null,
            "justify_content": null,
            "justify_items": null,
            "left": null,
            "margin": null,
            "max_height": null,
            "max_width": null,
            "min_height": null,
            "min_width": null,
            "object_fit": null,
            "object_position": null,
            "order": null,
            "overflow": null,
            "overflow_x": null,
            "overflow_y": null,
            "padding": null,
            "right": null,
            "top": null,
            "visibility": null,
            "width": null
          }
        },
        "3e2236d7b00a4ac1a8a52a6599d23026": {
          "model_module": "@jupyter-widgets/base",
          "model_name": "LayoutModel",
          "model_module_version": "1.2.0",
          "state": {
            "_model_module": "@jupyter-widgets/base",
            "_model_module_version": "1.2.0",
            "_model_name": "LayoutModel",
            "_view_count": null,
            "_view_module": "@jupyter-widgets/base",
            "_view_module_version": "1.2.0",
            "_view_name": "LayoutView",
            "align_content": null,
            "align_items": null,
            "align_self": null,
            "border": null,
            "bottom": null,
            "display": null,
            "flex": null,
            "flex_flow": null,
            "grid_area": null,
            "grid_auto_columns": null,
            "grid_auto_flow": null,
            "grid_auto_rows": null,
            "grid_column": null,
            "grid_gap": null,
            "grid_row": null,
            "grid_template_areas": null,
            "grid_template_columns": null,
            "grid_template_rows": null,
            "height": null,
            "justify_content": null,
            "justify_items": null,
            "left": null,
            "margin": null,
            "max_height": null,
            "max_width": null,
            "min_height": null,
            "min_width": null,
            "object_fit": null,
            "object_position": null,
            "order": null,
            "overflow": null,
            "overflow_x": null,
            "overflow_y": null,
            "padding": null,
            "right": null,
            "top": null,
            "visibility": null,
            "width": null
          }
        },
        "dc70ca007fcb492fa377c01149ca2318": {
          "model_module": "@jupyter-widgets/controls",
          "model_name": "SliderStyleModel",
          "model_module_version": "1.5.0",
          "state": {
            "_model_module": "@jupyter-widgets/controls",
            "_model_module_version": "1.5.0",
            "_model_name": "SliderStyleModel",
            "_view_count": null,
            "_view_module": "@jupyter-widgets/base",
            "_view_module_version": "1.2.0",
            "_view_name": "StyleView",
            "description_width": "",
            "handle_color": null
          }
        },
        "e465331701f44b1f9cf7ccc38d7112ce": {
          "model_module": "@jupyter-widgets/base",
          "model_name": "LayoutModel",
          "model_module_version": "1.2.0",
          "state": {
            "_model_module": "@jupyter-widgets/base",
            "_model_module_version": "1.2.0",
            "_model_name": "LayoutModel",
            "_view_count": null,
            "_view_module": "@jupyter-widgets/base",
            "_view_module_version": "1.2.0",
            "_view_name": "LayoutView",
            "align_content": null,
            "align_items": null,
            "align_self": null,
            "border": null,
            "bottom": null,
            "display": null,
            "flex": null,
            "flex_flow": null,
            "grid_area": null,
            "grid_auto_columns": null,
            "grid_auto_flow": null,
            "grid_auto_rows": null,
            "grid_column": null,
            "grid_gap": null,
            "grid_row": null,
            "grid_template_areas": null,
            "grid_template_columns": null,
            "grid_template_rows": null,
            "height": null,
            "justify_content": null,
            "justify_items": null,
            "left": null,
            "margin": null,
            "max_height": null,
            "max_width": null,
            "min_height": null,
            "min_width": null,
            "object_fit": null,
            "object_position": null,
            "order": null,
            "overflow": null,
            "overflow_x": null,
            "overflow_y": null,
            "padding": null,
            "right": null,
            "top": null,
            "visibility": null,
            "width": null
          }
        },
        "d0ee5d8a401143ef870c6773c66ec634": {
          "model_module": "@jupyter-widgets/controls",
          "model_name": "SliderStyleModel",
          "model_module_version": "1.5.0",
          "state": {
            "_model_module": "@jupyter-widgets/controls",
            "_model_module_version": "1.5.0",
            "_model_name": "SliderStyleModel",
            "_view_count": null,
            "_view_module": "@jupyter-widgets/base",
            "_view_module_version": "1.2.0",
            "_view_name": "StyleView",
            "description_width": "",
            "handle_color": null
          }
        },
        "0d8cd9070528466eabe3b25f08f2d949": {
          "model_module": "@jupyter-widgets/base",
          "model_name": "LayoutModel",
          "model_module_version": "1.2.0",
          "state": {
            "_model_module": "@jupyter-widgets/base",
            "_model_module_version": "1.2.0",
            "_model_name": "LayoutModel",
            "_view_count": null,
            "_view_module": "@jupyter-widgets/base",
            "_view_module_version": "1.2.0",
            "_view_name": "LayoutView",
            "align_content": null,
            "align_items": null,
            "align_self": null,
            "border": null,
            "bottom": null,
            "display": null,
            "flex": null,
            "flex_flow": null,
            "grid_area": null,
            "grid_auto_columns": null,
            "grid_auto_flow": null,
            "grid_auto_rows": null,
            "grid_column": null,
            "grid_gap": null,
            "grid_row": null,
            "grid_template_areas": null,
            "grid_template_columns": null,
            "grid_template_rows": null,
            "height": null,
            "justify_content": null,
            "justify_items": null,
            "left": null,
            "margin": null,
            "max_height": null,
            "max_width": null,
            "min_height": null,
            "min_width": null,
            "object_fit": null,
            "object_position": null,
            "order": null,
            "overflow": null,
            "overflow_x": null,
            "overflow_y": null,
            "padding": null,
            "right": null,
            "top": null,
            "visibility": null,
            "width": null
          }
        },
        "f20956b1135f4bebaba86a96bec8c5d0": {
          "model_module": "@jupyter-widgets/controls",
          "model_name": "SliderStyleModel",
          "model_module_version": "1.5.0",
          "state": {
            "_model_module": "@jupyter-widgets/controls",
            "_model_module_version": "1.5.0",
            "_model_name": "SliderStyleModel",
            "_view_count": null,
            "_view_module": "@jupyter-widgets/base",
            "_view_module_version": "1.2.0",
            "_view_name": "StyleView",
            "description_width": "",
            "handle_color": null
          }
        },
        "fa1bca40a53e49b893f1bcccc3ac6837": {
          "model_module": "@jupyter-widgets/base",
          "model_name": "LayoutModel",
          "model_module_version": "1.2.0",
          "state": {
            "_model_module": "@jupyter-widgets/base",
            "_model_module_version": "1.2.0",
            "_model_name": "LayoutModel",
            "_view_count": null,
            "_view_module": "@jupyter-widgets/base",
            "_view_module_version": "1.2.0",
            "_view_name": "LayoutView",
            "align_content": null,
            "align_items": null,
            "align_self": null,
            "border": null,
            "bottom": null,
            "display": null,
            "flex": null,
            "flex_flow": null,
            "grid_area": null,
            "grid_auto_columns": null,
            "grid_auto_flow": null,
            "grid_auto_rows": null,
            "grid_column": null,
            "grid_gap": null,
            "grid_row": null,
            "grid_template_areas": null,
            "grid_template_columns": null,
            "grid_template_rows": null,
            "height": null,
            "justify_content": null,
            "justify_items": null,
            "left": null,
            "margin": null,
            "max_height": null,
            "max_width": null,
            "min_height": null,
            "min_width": null,
            "object_fit": null,
            "object_position": null,
            "order": null,
            "overflow": null,
            "overflow_x": null,
            "overflow_y": null,
            "padding": null,
            "right": null,
            "top": null,
            "visibility": null,
            "width": null
          }
        }
      }
    }
  },
  "nbformat": 4,
  "nbformat_minor": 5
}