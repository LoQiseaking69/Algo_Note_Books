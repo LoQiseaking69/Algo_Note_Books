{
 "cells": [
  {
   "cell_type": "markdown",
   "id": "a104e695",
   "metadata": {
    "id": "a104e695"
   },
   "source": [
    "# Fractal Visualization of Negative Floating-Point Numbers\n",
    "*This notebook presents a Python script to generate fractal patterns based on negative floating-point numbers, now enhanced with the integration of the Cantor set for added depth and complexity. The script intricately links each number's characteristics, including magnitude, decimal part, and sign, to specific aspects of the fractal design. These characteristics influence the fractal's properties such as scale, branching angles, and recursion depth. The integration of the Cantor set, dictated by the integer part of the number, introduces a unique visual element that enriches the fractal's structure. This approach offers a visually informative and artistic exploration of the complex nature of negative floating-point numbers.*"
   ]
  },
  {
   "cell_type": "markdown",
   "id": "9a541d65",
   "metadata": {
    "id": "9a541d65"
   },
   "source": [
    "## Script Explanation\n",
    "- The script defines functions to create a fractal tree pattern, enhanced with the Cantor set for added visual complexity.\n",
    "- Negative floating-point numbers influence the fractal's branching, direction, and other properties.\n",
    "- The absolute value of the floating-point number determines the scale of the branches, influencing how large or small each segment of the fractal is.\n",
    "- The decimal part of the number affects the branching angles, dictating how much each branch of the fractal deviates from the previous one.\n",
    "- The sign (negative) influences the branching direction, creating a distinct pattern for negative values.\n",
    "- The integer part of the number dictates the depth of the Cantor set within the fractal branches, adding a unique visual element that reflects the number's complexity.\n",
    "- The script utilizes color gradation and line thickness to represent the depth of recursion, making the fractal visually informative.\n",
    "- Cantor set segments are highlighted with a distinct style, making them stand out and further enhancing the visual representation of the fractal."
   ]
  },
  {
   "cell_type": "code",
   "execution_count": 4,
   "id": "cFV8IJyRBDtn",
   "metadata": {
    "colab": {
     "background_save": true,
     "base_uri": "https://localhost:8080/",
     "height": 119
    },
    "id": "cFV8IJyRBDtn",
    "outputId": "f2494289-efcd-4fa4-8dce-ace8ad16bff0",
    "scrolled": true
   },
   "outputs": [
    {
     "data": {
      "application/vnd.jupyter.widget-view+json": {
       "model_id": "eae830f6b8fa4d5bab70c9f27ed5ed20",
       "version_major": 2,
       "version_minor": 0
      },
      "text/plain": [
       "Output()"
      ]
     },
     "metadata": {},
     "output_type": "display_data"
    },
    {
     "data": {
      "application/vnd.jupyter.widget-view+json": {
       "model_id": "f8e81227aed24e9ebde4d533f878f665",
       "version_major": 2,
       "version_minor": 0
      },
      "text/plain": [
       "Button(description='Generate Newton Fractal', style=ButtonStyle())"
      ]
     },
     "metadata": {},
     "output_type": "display_data"
    }
   ],
   "source": [
    "import matplotlib.pyplot as plt\n",
    "import numpy as np\n",
    "import random\n",
    "import sympy as sp\n",
    "from ipywidgets import Button, Output\n",
    "from IPython.display import display\n",
    "\n",
    "output = Output()\n",
    "\n",
    "def analyze_complex_number(c):\n",
    "    analysis = {\n",
    "        'real_part': c.real,\n",
    "        'imaginary_part': c.imag,\n",
    "        'magnitude': abs(c),\n",
    "        'argument': np.angle(c)\n",
    "    }\n",
    "    return analysis\n",
    "\n",
    "def newton_fractal(f, df, width, height, xlim, ylim, max_iter=20, tol=1e-6):\n",
    "    x = np.linspace(xlim[0], xlim[1], width)\n",
    "    y = np.linspace(ylim[0], ylim[1], height)\n",
    "    fractal = np.zeros((height, width))\n",
    "\n",
    "    for i in range(width):\n",
    "        for j in range(height):\n",
    "            z = x[i] + 1j*y[j]\n",
    "            for k in range(max_iter):\n",
    "                dz = f(z) / df(z)\n",
    "                if abs(dz) < tol:\n",
    "                    break\n",
    "                z -= dz\n",
    "            fractal[j, i] = k\n",
    "\n",
    "    return fractal\n",
    "\n",
    "def generate_newton_fractal_image(c, width, height):\n",
    "    x = sp.symbols('x')\n",
    "    # Randomly generate polynomial coefficients\n",
    "    coeffs = [random.uniform(-2, 2) for _ in range(4)]\n",
    "    f = sum(c * x**i for i, c in enumerate(coeffs[::-1]))  # Polynomial for Newton fractal\n",
    "    df = sp.diff(f, x)\n",
    "\n",
    "    f_lambdified = sp.lambdify(x, f, 'numpy')\n",
    "    df_lambdified = sp.lambdify(x, df, 'numpy')\n",
    "\n",
    "    xlim = (c.real - 2, c.real + 2)\n",
    "    ylim = (c.imag - 2, c.imag + 2)\n",
    "    max_iter = random.randint(10, 30)\n",
    "    tol = random.uniform(1e-6, 1e-4)\n",
    "    newton_set = newton_fractal(f_lambdified, df_lambdified, width, height, xlim, ylim, max_iter, tol)\n",
    "\n",
    "    # Randomly select a colormap for visualization\n",
    "    colormap = random.choice(['viridis', 'plasma', 'inferno', 'magma', 'cividis'])\n",
    "\n",
    "    plt.figure(figsize=(8, 6))\n",
    "    plt.imshow(newton_set, extent=[*xlim, *ylim], cmap=colormap)  # Apply selected colormap\n",
    "    plt.colorbar()\n",
    "    plt.axis('off')\n",
    "    plt.show()\n",
    "\n",
    "def on_button_clicked(b):\n",
    "    with output:\n",
    "        output.clear_output(wait=True)\n",
    "        # Randomly generate real and imaginary parts of the complex number\n",
    "        real_part = random.uniform(-2, 2)\n",
    "        imaginary_part = random.uniform(-2, 2)\n",
    "        complex_number = complex(real_part, imaginary_part)\n",
    "        analysis = analyze_complex_number(complex_number)\n",
    "        print(\"Complex Number Analysis:\", analysis)\n",
    "        generate_newton_fractal_image(complex_number, 800, 600)\n",
    "\n",
    "button = Button(description=\"Generate Newton Fractal\")\n",
    "button.on_click(on_button_clicked)\n",
    "\n",
    "display(output)\n",
    "display(button)"
   ]
  },
  {
   "cell_type": "code",
   "execution_count": null,
   "id": "937fb8a0-f334-4ffa-8871-4cfa1fb6b1c1",
   "metadata": {},
   "outputs": [],
   "source": []
  }
 ],
 "metadata": {
  "colab": {
   "provenance": [
    {
     "file_id": "1oMSFVKbfSz56pUsQzvV1pZGwssG-9DeF",
     "timestamp": 1707501968041
    }
   ]
  },
  "kernelspec": {
   "display_name": "Python 3 (ipykernel)",
   "language": "python",
   "name": "python3"
  },
  "language_info": {
   "codemirror_mode": {
    "name": "ipython",
    "version": 3
   },
   "file_extension": ".py",
   "mimetype": "text/x-python",
   "name": "python",
   "nbconvert_exporter": "python",
   "pygments_lexer": "ipython3",
   "version": "3.11.0"
  }
 },
 "nbformat": 4,
 "nbformat_minor": 5
}
